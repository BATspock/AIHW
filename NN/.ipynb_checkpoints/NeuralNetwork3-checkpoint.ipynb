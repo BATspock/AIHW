{
 "cells": [
  {
   "cell_type": "code",
   "execution_count": 14,
   "id": "18e2e372",
   "metadata": {},
   "outputs": [
    {
     "name": "stdout",
     "output_type": "stream",
     "text": [
      "(60000, 784) (60000, 1) (10000, 784)\n"
     ]
    }
   ],
   "source": [
    "import numpy as np \n",
    "import pandas as pd\n",
    "import sys\n",
    "\n",
    "dataX = \"/home/adkishor/projects/misc/CSCI561-AI/mlp/publicdata/train_image.csv\"#sys.argv[1]\n",
    "dataY = \"/home/adkishor/projects/misc/CSCI561-AI/mlp/publicdata/train_label.csv\"#sys.argv[2]\n",
    "\n",
    "TEST = \"/home/adkishor/projects/misc/CSCI561-AI/mlp/publicdata/test_image.csv\"#sys.argv[3]\n",
    "\n",
    "def load_data(X,Y, T):\n",
    "\n",
    "    train_data = pd.read_csv(X, header=None)\n",
    "    train_labels = pd.read_csv(Y, header=None)\n",
    "    test_data = pd.read_csv(T, header=None)\n",
    "    return train_data, train_labels, test_data\n",
    "\n",
    "first , second, third = load_data(dataX, dataY, TEST)\n",
    "print(first.shape , second.shape, third.shape)\n",
    "\n",
    "\n",
    "\n"
   ]
  },
  {
   "cell_type": "code",
   "execution_count": 12,
   "id": "0cff1d50",
   "metadata": {},
   "outputs": [],
   "source": [
    "def sigmoid(X):\n",
    "    z =  1/(1+np.exp(-X))\n",
    "    return z"
   ]
  },
  {
   "cell_type": "code",
   "execution_count": 13,
   "id": "ca41df7b",
   "metadata": {},
   "outputs": [],
   "source": [
    "\n",
    "def softmax(X):\n",
    "    e = np.exp(X)\n",
    "    e = e/e.sum()\n",
    "    \n",
    "    return e"
   ]
  },
  {
   "cell_type": "code",
   "execution_count": 10,
   "id": "4fb2cef9",
   "metadata": {},
   "outputs": [
    {
     "data": {
      "text/plain": [
       "array([0.09003057, 0.24472847, 0.66524096])"
      ]
     },
     "execution_count": 10,
     "metadata": {},
     "output_type": "execute_result"
    }
   ],
   "source": [
    "softmax(np.array([1,2,3]))"
   ]
  },
  {
   "cell_type": "code",
   "execution_count": 9,
   "id": "e90769be",
   "metadata": {},
   "outputs": [
    {
     "data": {
      "text/plain": [
       "array([0.73105858, 0.88079708, 0.95257413, 0.98201379])"
      ]
     },
     "execution_count": 9,
     "metadata": {},
     "output_type": "execute_result"
    }
   ],
   "source": [
    "sigmoid(np.array([1,2,3,4]))"
   ]
  },
  {
   "cell_type": "code",
   "execution_count": 22,
   "id": "da861d50",
   "metadata": {},
   "outputs": [],
   "source": [
    "X = np.array(first.T)\n",
    "Y = np.array(second.T)\n",
    "x_hat = np.array(third.T)"
   ]
  },
  {
   "cell_type": "code",
   "execution_count": 23,
   "id": "7eec28f9",
   "metadata": {},
   "outputs": [
    {
     "data": {
      "text/plain": [
       "((784, 60000), (1, 60000), (784, 10000), numpy.ndarray)"
      ]
     },
     "execution_count": 23,
     "metadata": {},
     "output_type": "execute_result"
    }
   ],
   "source": [
    "X.shape, Y.shape, x_hat.shape, type(X)"
   ]
  },
  {
   "cell_type": "code",
   "execution_count": null,
   "id": "cf559cdc",
   "metadata": {},
   "outputs": [],
   "source": [
    "Y"
   ]
  }
 ],
 "metadata": {
  "kernelspec": {
   "display_name": "Python 3 (ipykernel)",
   "language": "python",
   "name": "python3"
  },
  "language_info": {
   "codemirror_mode": {
    "name": "ipython",
    "version": 3
   },
   "file_extension": ".py",
   "mimetype": "text/x-python",
   "name": "python",
   "nbconvert_exporter": "python",
   "pygments_lexer": "ipython3",
   "version": "3.9.7"
  }
 },
 "nbformat": 4,
 "nbformat_minor": 5
}

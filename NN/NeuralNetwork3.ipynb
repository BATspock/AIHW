{
 "cells": [
  {
   "cell_type": "code",
   "execution_count": 1,
   "id": "33cde732",
   "metadata": {},
   "outputs": [
    {
     "name": "stdout",
     "output_type": "stream",
     "text": [
      "(60000, 784) (60000, 1) (10000, 784)\n"
     ]
    }
   ],
   "source": [
    "import numpy as np \n",
    "import pandas as pd\n",
    "import sys\n",
    "\n",
    "dataX = \"/home/adkishor/projects/misc/CSCI561-AI/mlp/publicdata/train_image.csv\"#sys.argv[1]\n",
    "dataY = \"/home/adkishor/projects/misc/CSCI561-AI/mlp/publicdata/train_label.csv\"#sys.argv[2]\n",
    "\n",
    "TEST = \"/home/adkishor/projects/misc/CSCI561-AI/mlp/publicdata/test_image.csv\"#sys.argv[3]\n",
    "\n",
    "def load_data(X,Y, T):\n",
    "\n",
    "    train_data = pd.read_csv(X, header=None)\n",
    "    train_labels = pd.read_csv(Y, header=None)\n",
    "    test_data = pd.read_csv(T, header=None)\n",
    "    return train_data, train_labels, test_data\n",
    "\n",
    "first , second, third = load_data(dataX, dataY, TEST)\n",
    "print(first.shape , second.shape, third.shape)\n",
    "\n",
    "\n",
    "\n"
   ]
  },
  {
   "cell_type": "code",
   "execution_count": 2,
   "id": "0e1b7d65",
   "metadata": {},
   "outputs": [],
   "source": [
    "def sigmoid(X):\n",
    "    z =  1/(1+np.exp(-X))\n",
    "    return z"
   ]
  },
  {
   "cell_type": "code",
   "execution_count": 3,
   "id": "b619ea57",
   "metadata": {},
   "outputs": [],
   "source": [
    "\n",
    "def softmax(X):\n",
    "    e = np.exp(X)\n",
    "    e = e/e.sum()\n",
    "    \n",
    "    return e"
   ]
  },
  {
   "cell_type": "code",
   "execution_count": 4,
   "id": "8b4dd528",
   "metadata": {},
   "outputs": [],
   "source": [
    "X = np.array(first.T)\n",
    "Y = np.array(second.T)\n",
    "x_hat = np.array(third.T)"
   ]
  },
  {
   "cell_type": "code",
   "execution_count": 5,
   "id": "03ea2e6a",
   "metadata": {},
   "outputs": [
    {
     "ename": "NameError",
     "evalue": "name 'Yonehat' is not defined",
     "output_type": "error",
     "traceback": [
      "\u001b[0;31m---------------------------------------------------------------------------\u001b[0m",
      "\u001b[0;31mNameError\u001b[0m                                 Traceback (most recent call last)",
      "\u001b[0;32m/tmp/ipykernel_31134/2060180468.py\u001b[0m in \u001b[0;36m<module>\u001b[0;34m\u001b[0m\n\u001b[0;32m----> 1\u001b[0;31m \u001b[0mYonehat\u001b[0m \u001b[0;34m=\u001b[0m \u001b[0mYonehat\u001b[0m\u001b[0;34m.\u001b[0m\u001b[0mT\u001b[0m\u001b[0;34m\u001b[0m\u001b[0;34m\u001b[0m\u001b[0m\n\u001b[0m\u001b[1;32m      2\u001b[0m \u001b[0;34m\u001b[0m\u001b[0m\n\u001b[1;32m      3\u001b[0m \u001b[0mX\u001b[0m\u001b[0;34m.\u001b[0m\u001b[0mshape\u001b[0m\u001b[0;34m,\u001b[0m \u001b[0mY\u001b[0m\u001b[0;34m.\u001b[0m\u001b[0mshape\u001b[0m\u001b[0;34m,\u001b[0m \u001b[0mx_hat\u001b[0m\u001b[0;34m.\u001b[0m\u001b[0mshape\u001b[0m\u001b[0;34m,\u001b[0m \u001b[0mYonehat\u001b[0m\u001b[0;34m.\u001b[0m\u001b[0mshape\u001b[0m\u001b[0;34m\u001b[0m\u001b[0;34m\u001b[0m\u001b[0m\n",
      "\u001b[0;31mNameError\u001b[0m: name 'Yonehat' is not defined"
     ]
    }
   ],
   "source": []
  },
  {
   "cell_type": "code",
   "execution_count": 53,
   "id": "20abc689",
   "metadata": {},
   "outputs": [],
   "source": [
    "def shuffle_data(X,Y):\n",
    "    #merge = np.concatenate((X,Y), axis= 1)\n",
    "    X,Y = np.array(X), np.array(Y)\n",
    "    #np.random.shuffle(merge)\n",
    "    print(X.shape, Y.shape)\n",
    "    #X,Y = merge[:,:-1], merge[:, -1]\n",
    "    #Y = np.reshape(Y, (len(Y), 1))\n",
    "    print(Y[59999][0])\n",
    "    Yonehot = np.zeros((X.shape[0], 10))\n",
    "    for i in range(Y.shape[0]):\n",
    "        Yonehot[i][Y[i][0]] = 1\n",
    "        \n",
    "    merge = np.concatenate((X, Yonehot), axis=1)\n",
    "    np.random.shuffle(merge)\n",
    "    a, b =  merge[:,:X.shape[1]], merge[:, X.shape[1]:]\n",
    "    #a = np.reshape(a, (X.shape[0], X.shape[1]-1))\n",
    "    #b = np.reshape(b, (X.shape[0], 10))\n",
    "    \n",
    "    return a, b"
   ]
  },
  {
   "cell_type": "code",
   "execution_count": 54,
   "id": "ebd2a72b",
   "metadata": {},
   "outputs": [
    {
     "name": "stdout",
     "output_type": "stream",
     "text": [
      "(60000, 784) (60000, 1)\n",
      "8\n"
     ]
    }
   ],
   "source": [
    "a, b = shuffle_data(first, second)"
   ]
  },
  {
   "cell_type": "code",
   "execution_count": 55,
   "id": "2c1d1e92",
   "metadata": {},
   "outputs": [
    {
     "data": {
      "text/plain": [
       "((60000, 784), (60000, 10))"
      ]
     },
     "execution_count": 55,
     "metadata": {},
     "output_type": "execute_result"
    }
   ],
   "source": [
    "a.shape, b.shape"
   ]
  },
  {
   "cell_type": "code",
   "execution_count": null,
   "id": "8e83a04f",
   "metadata": {},
   "outputs": [],
   "source": []
  },
  {
   "cell_type": "code",
   "execution_count": null,
   "id": "e3ef6946",
   "metadata": {},
   "outputs": [],
   "source": []
  },
  {
   "cell_type": "code",
   "execution_count": 28,
   "id": "885d1bdc",
   "metadata": {},
   "outputs": [],
   "source": [
    "batch_size = 32\n",
    "learning_rate = 0.001\n",
    "epochs = 50\n",
    "\n",
    "params = {\n",
    "    'w1':np.random.randn(512, 784),\n",
    "    'b1':np.random.randn(512,1),\n",
    "    'w2':np.random.randn(256, 512),\n",
    "    'b2':np.random.randn(256,1),\n",
    "    'w3':np.random.randn(10,256),\n",
    "    'b3':np.random.randn(10,1)\n",
    "}\n",
    "\n",
    "\n",
    "def forward_pass(params, X):\n",
    "    fpassdict = {}\n",
    "    \n",
    "    fpassdict['a1'] = np.dot(params['w1'], X.T) + params['b1']\n",
    "    fpassdict['z1'] = sigmoid(fpassdict['a1'])\n",
    "    fpassdict['a2'] = np.dot(params['w2'], fpassdict['z1']) + params['b2']\n",
    "    fpassdict['z2'] = sigmoid(fpassdict['a2'])\n",
    "    fpassdict['a3'] = np.dot(params['w3'], fpassdict['z2']) + params['b3']\n",
    "    fpassdict['z3'] = softmax(fpassdict['a3'])\n",
    "    \n",
    "    return fpassdict\n",
    "\n",
    "\n",
    "\n",
    "    \n",
    "    \n",
    "    \n",
    "    \n",
    "    "
   ]
  },
  {
   "cell_type": "code",
   "execution_count": 44,
   "id": "a916ddaa",
   "metadata": {},
   "outputs": [
    {
     "data": {
      "text/plain": [
       "((512, 784), (60000, 784))"
      ]
     },
     "execution_count": 44,
     "metadata": {},
     "output_type": "execute_result"
    }
   ],
   "source": [
    "params['w1'].shape, a.shape"
   ]
  },
  {
   "cell_type": "code",
   "execution_count": 46,
   "id": "a83ede7d",
   "metadata": {},
   "outputs": [
    {
     "data": {
      "text/plain": [
       "(784,)"
      ]
     },
     "execution_count": 46,
     "metadata": {},
     "output_type": "execute_result"
    }
   ],
   "source": [
    "a[0].shape"
   ]
  },
  {
   "cell_type": "code",
   "execution_count": 52,
   "id": "d0ebaac4",
   "metadata": {},
   "outputs": [
    {
     "name": "stderr",
     "output_type": "stream",
     "text": [
      "/tmp/ipykernel_31134/3344408436.py:2: RuntimeWarning: overflow encountered in exp\n",
      "  z =  1/(1+np.exp(-X))\n"
     ]
    },
    {
     "data": {
      "text/plain": [
       "(512, 60000)"
      ]
     },
     "execution_count": 52,
     "metadata": {},
     "output_type": "execute_result"
    }
   ],
   "source": [
    "sigmoid((np.dot(params['w1'], a.T) + params['b1'])).shape\n"
   ]
  },
  {
   "cell_type": "code",
   "execution_count": null,
   "id": "8b487567",
   "metadata": {},
   "outputs": [],
   "source": [
    "def backward_pass():\n",
    "    pass\n",
    "\n",
    "def train_model(X, Y, batch_size = 32, epochs = 50 , learning_rate = 0.001):\n",
    "    \n",
    "    dataX, dataY = shuffle_data(X,Y)\n",
    "    for i in range(epochs):\n",
    "        \n",
    "        forward_pass(params,)"
   ]
  }
 ],
 "metadata": {
  "kernelspec": {
   "display_name": "Python 3 (ipykernel)",
   "language": "python",
   "name": "python3"
  },
  "language_info": {
   "codemirror_mode": {
    "name": "ipython",
    "version": 3
   },
   "file_extension": ".py",
   "mimetype": "text/x-python",
   "name": "python",
   "nbconvert_exporter": "python",
   "pygments_lexer": "ipython3",
   "version": "3.9.7"
  }
 },
 "nbformat": 4,
 "nbformat_minor": 5
}

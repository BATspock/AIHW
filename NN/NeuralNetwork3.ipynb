{
 "cells": [
  {
   "cell_type": "code",
   "execution_count": 9,
   "id": "e55988b3",
   "metadata": {},
   "outputs": [
    {
     "name": "stdout",
     "output_type": "stream",
     "text": [
      "(60000, 784) (60000, 1) (10000, 784)\n"
     ]
    }
   ],
   "source": [
    "import numpy as np \n",
    "import pandas as pd\n",
    "import sys\n",
    "\n",
    "dataX = \"/home/adkishor/projects/misc/CSCI561-AI/mlp/publicdata/train_image.csv\"#sys.argv[1]\n",
    "dataY = \"/home/adkishor/projects/misc/CSCI561-AI/mlp/publicdata/train_label.csv\"#sys.argv[2]\n",
    "\n",
    "TEST = \"/home/adkishor/projects/misc/CSCI561-AI/mlp/publicdata/test_image.csv\"#sys.argv[3]\n",
    "\n",
    "def load_data(X,Y, T):\n",
    "\n",
    "    train_data = pd.read_csv(X, header=None)\n",
    "    train_labels = pd.read_csv(Y, header=None)\n",
    "    test_data = pd.read_csv(T, header=None)\n",
    "    return train_data, train_labels, test_data\n",
    "\n",
    "first , second, third = load_data(dataX, dataY, TEST)\n",
    "print(first.shape , second.shape, third.shape)\n",
    "\n",
    "\n",
    "\n"
   ]
  },
  {
   "cell_type": "code",
   "execution_count": 10,
   "id": "8906298a",
   "metadata": {},
   "outputs": [],
   "source": [
    "def sigmoid(X):\n",
    "    z =  1/(1+np.exp(-X))\n",
    "    return z"
   ]
  },
  {
   "cell_type": "code",
   "execution_count": 11,
   "id": "9ab7568e",
   "metadata": {},
   "outputs": [],
   "source": [
    "\n",
    "def softmax(X):\n",
    "    e = np.exp(X)\n",
    "    e = e/e.sum()\n",
    "    \n",
    "    return e"
   ]
  },
  {
   "cell_type": "code",
   "execution_count": 12,
   "id": "5ffc0cfc",
   "metadata": {},
   "outputs": [],
   "source": [
    "X = np.array(first.T)\n",
    "Y = np.array(second.T)\n",
    "x_hat = np.array(third.T)"
   ]
  },
  {
   "cell_type": "code",
   "execution_count": 13,
   "id": "732f2ce3",
   "metadata": {},
   "outputs": [],
   "source": [
    "Yonehat = np.zeros((X.shape[1], 10))\n",
    "for i in range(X.shape[1]):\n",
    "    Yonehat[i][second[0][i]] = 1"
   ]
  },
  {
   "cell_type": "code",
   "execution_count": 14,
   "id": "225f24c0",
   "metadata": {},
   "outputs": [
    {
     "data": {
      "text/plain": [
       "((784, 60000), (1, 60000), (784, 10000), (10, 60000))"
      ]
     },
     "execution_count": 14,
     "metadata": {},
     "output_type": "execute_result"
    }
   ],
   "source": [
    "Yonehat = Yonehat.T\n",
    "\n",
    "X.shape, Y.shape, x_hat.shape, Yonehat.shape"
   ]
  },
  {
   "cell_type": "code",
   "execution_count": null,
   "id": "4a616873",
   "metadata": {},
   "outputs": [],
   "source": [
    "batch_size = 32\n",
    "learning_rate = 0.001\n",
    "epochs = 50\n",
    "\n",
    "params = {\n",
    "    'w1':np.random.randn(512, 784),\n",
    "    'b1':np.random.randn(512,1),\n",
    "    'w2':np.random.randn(256, 512),\n",
    "    'b2':np.random.randn(256,1),\n",
    "    'w3':np.random.randn(10,256),\n",
    "    'b3':np.random.randn(10,1)\n",
    "}\n",
    "\n",
    "\n",
    "def cross_entropy(Y, out):\n",
    "    m = "
   ]
  }
 ],
 "metadata": {
  "kernelspec": {
   "display_name": "Python 3 (ipykernel)",
   "language": "python",
   "name": "python3"
  },
  "language_info": {
   "codemirror_mode": {
    "name": "ipython",
    "version": 3
   },
   "file_extension": ".py",
   "mimetype": "text/x-python",
   "name": "python",
   "nbconvert_exporter": "python",
   "pygments_lexer": "ipython3",
   "version": "3.9.7"
  }
 },
 "nbformat": 4,
 "nbformat_minor": 5
}

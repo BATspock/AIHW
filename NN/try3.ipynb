{
 "cells": [
  {
   "cell_type": "code",
   "execution_count": 6,
   "id": "c35ca38f",
   "metadata": {},
   "outputs": [
    {
     "name": "stdout",
     "output_type": "stream",
     "text": [
      "(60000, 784) (60000, 1) (10000, 784)\n"
     ]
    }
   ],
   "source": [
    "import numpy as np \n",
    "import pandas as pd\n",
    "import sys\n",
    "\n",
    "dataX = \"/home/adkishor/projects/misc/CSCI561-AI/mlp/publicdata/train_image.csv\"#sys.argv[1]\n",
    "dataY = \"/home/adkishor/projects/misc/CSCI561-AI/mlp/publicdata/train_label.csv\"#sys.argv[2]\n",
    "\n",
    "TEST = \"/home/adkishor/projects/misc/CSCI561-AI/mlp/publicdata/test_image.csv\"#sys.argv[3]\n",
    "\n",
    "def load_data(X,Y, T):\n",
    "\n",
    "    train_data = pd.read_csv(X, header=None)\n",
    "    train_labels = pd.read_csv(Y, header=None)\n",
    "    test_data = pd.read_csv(T, header=None)\n",
    "    \n",
    "    \n",
    "    \n",
    "    return train_data, train_labels, test_data\n",
    "\n",
    "X , Y, test = load_data(dataX, dataY, TEST)\n",
    "print(X.shape , Y.shape, test.shape)"
   ]
  },
  {
   "cell_type": "code",
   "execution_count": 7,
   "id": "9668cd86",
   "metadata": {},
   "outputs": [],
   "source": [
    "X, Y, test = np.asarray(X), np.asarray(Y), np.asarray(test)\n",
    "X = X/255 #normalize\n",
    "test = test/255"
   ]
  },
  {
   "cell_type": "code",
   "execution_count": 8,
   "id": "e9157fcc",
   "metadata": {},
   "outputs": [],
   "source": [
    "Y = Y.reshape(1, X.shape[0])\n",
    "Yonehot = np.eye(10)[Y.astype('int32')]\n",
    "Yonehot = Yonehot.T.reshape(10, X.shape[0])"
   ]
  },
  {
   "cell_type": "code",
   "execution_count": 14,
   "id": "7f331431",
   "metadata": {},
   "outputs": [
    {
     "data": {
      "text/plain": [
       "array([[0., 1., 0., ..., 0., 0., 0.],\n",
       "       [0., 0., 0., ..., 0., 0., 0.],\n",
       "       [0., 0., 0., ..., 0., 0., 0.],\n",
       "       ...,\n",
       "       [0., 0., 0., ..., 0., 0., 0.],\n",
       "       [0., 0., 0., ..., 0., 0., 1.],\n",
       "       [0., 0., 0., ..., 0., 0., 0.]])"
      ]
     },
     "execution_count": 14,
     "metadata": {},
     "output_type": "execute_result"
    }
   ],
   "source": [
    "Yonehot"
   ]
  },
  {
   "cell_type": "code",
   "execution_count": 9,
   "id": "18ac1f50",
   "metadata": {},
   "outputs": [
    {
     "name": "stdout",
     "output_type": "stream",
     "text": [
      "(784, 60000) (10, 60000) (784, 10000)\n"
     ]
    }
   ],
   "source": [
    "x_train = X.T\n",
    "x_test = test.T\n",
    "\n",
    "print(x_train.shape, Yonehot.shape, x_test.shape)"
   ]
  },
  {
   "cell_type": "code",
   "execution_count": 16,
   "id": "aa8ff904",
   "metadata": {},
   "outputs": [],
   "source": [
    "parameters = { \"W1\": np.random.randn(512, 784) * np.sqrt(1. / 784),\n",
    "           \"b1\": np.zeros((512, 1)) * np.sqrt(1. / 784),\n",
    "           \"W2\": np.random.randn(64, 512) * np.sqrt(1. / 512),\n",
    "           \"b2\": np.zeros((64, 1)) * np.sqrt(1. / 512),\n",
    "           \"W3\": np.random.randn(10, 64) * np.sqrt(1. / 64),\n",
    "           \"b3\": np.zeros((10, 1)) * np.sqrt(1. / 64)}\n",
    "\n",
    "wtavgdW1 = np.zeros(parameters[\"W1\"].shape)\n",
    "wtavgdb1 = np.zeros(parameters[\"b1\"].shape)\n",
    "wtavgdW2 = np.zeros(parameters[\"W2\"].shape)\n",
    "wtavgdb2 = np.zeros(parameters[\"b2\"].shape)\n",
    "wtavgdW3 = np.zeros(parameters[\"W3\"].shape)\n",
    "wtavgdb3 = np.zeros(parameters[\"b3\"].shape)\n",
    "\n",
    "epochs = 20\n",
    "lr = 4\n",
    "beta = .9\n",
    "batch_size = 32\n",
    "batches = x_train.shape[0]//batch_size"
   ]
  },
  {
   "cell_type": "code",
   "execution_count": 22,
   "id": "a0ce5bab",
   "metadata": {},
   "outputs": [],
   "source": [
    "def sigmoid(X):\n",
    "    return 1/(1+np.exp(-X))\n",
    "\n",
    "def categorical_loss(X,Y):\n",
    "    total = np.sum(np.multiply(X, np.log(Y)))\n",
    "    Loss = (-1/X.shape[1])*total\n",
    "    \n",
    "def softmax(X):\n",
    "    return np.exp(X) / np.sum(np.exp(X), axis=0)"
   ]
  },
  {
   "cell_type": "code",
   "execution_count": 23,
   "id": "9a6f34a6",
   "metadata": {},
   "outputs": [],
   "source": [
    "def forward(X, params)->dict:\n",
    "    current = dict()\n",
    "    \n",
    "    current[\"Z1\"] = np.matmul(params[\"W1\"], X) + params[\"b1\"]\n",
    "    \n",
    "    current[\"A1\"] = sigmoid(current[\"Z1\"])\n",
    "\n",
    "    current[\"Z2\"] = np.matmul(params[\"W2\"], current[\"A1\"]) + params[\"b2\"]\n",
    "\n",
    "    current[\"A2\"] = sigmoid(current[\"Z2\"])\n",
    "\n",
    "    current[\"Z3\"] = np.matmul(params[\"W3\"], current[\"A2\"]) + params[\"b3\"]\n",
    "\n",
    "    current[\"A3\"] = softmax(current[\"Z3\"])\n",
    "    \n",
    "    return current\n",
    "    "
   ]
  },
  {
   "cell_type": "code",
   "execution_count": 24,
   "id": "82c8bb83",
   "metadata": {},
   "outputs": [],
   "source": [
    "def backprop(X,Y,para, current)->dict:\n",
    "    dZ3 = current[\"A3\"] - Y\n",
    "    dW3 = (1./batchsize) * np.matmul(dZ3, current[\"A2\"].T)\n",
    "    db3 = (1./batchsize) * np.sum(dZ3, axis=1, keepdims=True)\n",
    "\n",
    "    dA2 = np.matmul(para[\"W3\"].T, dZ3)\n",
    "    dZ2 = dA2 * sigmoid(current[\"Z2\"]) * (1 - sigmoid(current[\"Z2\"]))\n",
    "    dW2 = (1./batchsize) * np.matmul(dZ2, current[\"A1\"].T)\n",
    "    db2 = (1./batchsize) * np.sum(dZ2, axis=1, keepdims=True)\n",
    "\n",
    "    dA1 = np.matmul(para[\"W2\"].T, dZ2)\n",
    "    dZ1 = dA1 * sigmoid(current[\"Z1\"]) * (1 - sigmoid(current[\"Z1\"]))\n",
    "    dW1 = (1./batchsize) * np.matmul(dZ1, X.T)\n",
    "    db1 = (1./batchsize) * np.sum(dZ1, axis=1, keepdims=True)\n",
    "\n",
    "    grads = {\"dW1\": dW1, \"db1\": db1, \"dW2\": dW2, \"db2\": db2, \"dW3\": dW3, \"db3\": db3}\n",
    "\n",
    "    return grads"
   ]
  },
  {
   "cell_type": "code",
   "execution_count": 30,
   "id": "db0f84db",
   "metadata": {},
   "outputs": [],
   "source": [
    "for i in range(epochs):\n",
    "\n",
    "    #using mini batch gradient descent\n",
    "    permutation = np.random.permutation(x_train.shape[1])\n",
    "    Xshuffled = x_train[:, permutation]\n",
    "    Yshuffled = Yonehot[:, permutation]\n",
    "\n",
    "    for j in range(batches):\n",
    "\n",
    "        begin = j * batch_size\n",
    "        end = min(begin + batch_size, x_train.shape[1] - 1)\n",
    "        X = Xshuffled[:, begin:end]\n",
    "        Y = Yshuffled[:, begin:end]\n",
    "        batchsize = end - begin\n",
    "\n",
    "        current = forward(X, parameters)\n",
    "        gradient = backprop(X, Y, parameters, current)\n",
    "\n",
    "        wtavgdW1 = (beta * wtavgdW1 + (1. - beta) * gradient[\"dW1\"])\n",
    "        wtavgdb1 = (beta * wtavgdb1 + (1. - beta) * gradient[\"db1\"])\n",
    "        wtavgdW2 = (beta * wtavgdW2 + (1. - beta) * gradient[\"dW2\"])\n",
    "        wtavgdb2 = (beta * wtavgdb2 + (1. - beta) * gradient[\"db2\"])\n",
    "        wtavgdW3 = (beta * wtavgdW3 + (1. - beta) * gradient[\"dW3\"])\n",
    "        wtavgdb3 = (beta * wtavgdb3 + (1. - beta) * gradient[\"db3\"])\n",
    "\n",
    "        parameters[\"W1\"] = parameters[\"W1\"] - lr* wtavgdW1\n",
    "        parameters[\"b1\"] = parameters[\"b1\"] - lr * wtavgdb1\n",
    "        parameters[\"W2\"] = parameters[\"W2\"] - lr * wtavgdW2\n",
    "        parameters[\"b2\"] = parameters[\"b2\"] - lr * wtavgdb2\n",
    "        parameters[\"W3\"] = parameters[\"W3\"] - lr * wtavgdW3\n",
    "        parameters[\"b3\"] = parameters[\"b3\"] - lr * wtavgdb3\n",
    "\n",
    "#     cache = forward(x_train, parameters)\n",
    "#     cost = categorical_loss(Yonehot, cache[\"A3\"])"
   ]
  },
  {
   "cell_type": "code",
   "execution_count": 33,
   "id": "f3bda2d8",
   "metadata": {},
   "outputs": [],
   "source": [
    "out = forward(x_test, parameters)\n",
    "pred = np.argmax(out[\"A3\"], axis=0)"
   ]
  },
  {
   "cell_type": "code",
   "execution_count": 39,
   "id": "c9eb3655",
   "metadata": {},
   "outputs": [],
   "source": [
    "np.savetxt(\"mypred.csv\", pred, delimiter=',', fmt='%d' )"
   ]
  },
  {
   "cell_type": "code",
   "execution_count": null,
   "id": "b24b4e22",
   "metadata": {},
   "outputs": [],
   "source": []
  }
 ],
 "metadata": {
  "kernelspec": {
   "display_name": "Python 3 (ipykernel)",
   "language": "python",
   "name": "python3"
  },
  "language_info": {
   "codemirror_mode": {
    "name": "ipython",
    "version": 3
   },
   "file_extension": ".py",
   "mimetype": "text/x-python",
   "name": "python",
   "nbconvert_exporter": "python",
   "pygments_lexer": "ipython3",
   "version": "3.9.7"
  }
 },
 "nbformat": 4,
 "nbformat_minor": 5
}
